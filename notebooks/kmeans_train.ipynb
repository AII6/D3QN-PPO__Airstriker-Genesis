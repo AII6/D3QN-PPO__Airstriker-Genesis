{
 "cells": [
  {
   "cell_type": "code",
   "execution_count": null,
   "outputs": [],
   "source": [
    "import time\n",
    "import retro\n",
    "import matplotlib.pyplot as plt\n",
    "import cv2\n",
    "\n",
    "env = retro.make(game='Airstriker-Genesis')\n",
    "obs = env.reset()\n",
    "plt.figure(facecolor='white')\n",
    "# plt.imshow(obs)\n",
    "# plt.imshow(obs[125:150,110:200,:])\n",
    "i = 0\n",
    "while True:\n",
    "    a = env.action_space.sample()\n",
    "    # print(a)\n",
    "    BGR = cv2.cvtColor(obs[128:135,120:207,:],cv2.COLOR_RGB2BGR)\n",
    "    path = \"D:\\\\Python_Projects\\\\DRL\\\\data\\\\died\\\\\"+str(i)+\".jpg\"\n",
    "    i+=1\n",
    "    if i>2000:\n",
    "        env.close()\n",
    "        break\n",
    "    cv2.imwrite(path,BGR)\n",
    "    obs, r, done, info = env.step(a)\n",
    "    env.render()\n",
    "    time.sleep(0.01)\n",
    "    if done:\n",
    "        obs = env.reset()\n",
    "env.close()"
   ],
   "metadata": {
    "collapsed": false,
    "pycharm": {
     "name": "#%%\n",
     "is_executing": true
    }
   }
  },
  {
   "cell_type": "code",
   "execution_count": null,
   "outputs": [],
   "source": [
    "from sklearn.cluster import KMeans\n",
    "import cv2\n",
    "i = 0\n",
    "x_died = []\n",
    "while i < 2000:\n",
    "    path = \"D:\\\\Python_Projects\\\\DRL\\\\data\\\\died\\\\\"+str(i)+\".jpg\"\n",
    "    x_ = (cv2.imread(path)).flatten()\n",
    "    x_died.append(x_)\n",
    "    i+=1\n",
    "kmeans_died = KMeans(n_clusters=2)   # 活着和死了\n",
    "y_pred = kmeans_died.fit_predict(x_died)\n",
    "y_pred  # 0是活着，1是死了"
   ],
   "metadata": {
    "collapsed": false,
    "pycharm": {
     "name": "#%%\n"
    }
   }
  },
  {
   "cell_type": "code",
   "execution_count": null,
   "outputs": [],
   "source": [
    "import joblib\n",
    "file = r\"D:\\\\Python_Projects\\\\DRL\\\\models\\k_means\"\n",
    "joblib.dump(kmeans_died,file)"
   ],
   "metadata": {
    "collapsed": false,
    "pycharm": {
     "name": "#%%\n"
    }
   }
  },
  {
   "cell_type": "code",
   "execution_count": null,
   "outputs": [],
   "source": [
    "import time\n",
    "import numpy as np\n",
    "\n",
    "env = retro.make(game='Airstriker-Genesis')\n",
    "obs = env.reset()\n",
    "plt.figure(facecolor='white')\n",
    "# plt.imshow(obs)\n",
    "# plt.imshow(obs[180:220,260:310,:])\n",
    "i = 0\n",
    "while True:\n",
    "    button = np.zeros(12)\n",
    "    # 6是左，7是右\n",
    "    button[6] = 1\n",
    "    # a = env.action_space.sample()\n",
    "    a = button\n",
    "    # print(a)\n",
    "    BGR = cv2.cvtColor(obs[180:220,260:310,:],cv2.COLOR_RGB2BGR)\n",
    "    path = \"D:\\\\Python_Projects\\\\DRL\\\\data\\\\l_corner\\\\\"+str(i)+\".jpg\"\n",
    "    i+=1\n",
    "    if i>2000:\n",
    "        env.close()\n",
    "        break\n",
    "    cv2.imwrite(path,BGR)\n",
    "    obs, r, done, info = env.step(a)\n",
    "    env.render()\n",
    "    time.sleep(0.01)\n",
    "    if done:\n",
    "        obs = env.reset()\n",
    "# env.close()"
   ],
   "metadata": {
    "collapsed": false,
    "pycharm": {
     "name": "#%%\n"
    }
   }
  },
  {
   "cell_type": "code",
   "execution_count": null,
   "outputs": [],
   "source": [
    "i = 0\n",
    "x_l_corner = []\n",
    "while i < 2000:\n",
    "    path = \"D:\\\\Python_Projects\\\\DRL\\\\data\\\\l_corner\\\\\"+str(i)+\".jpg\"\n",
    "    x_ = (cv2.imread(path)).flatten()\n",
    "    x_l_corner.append(x_)\n",
    "    i+=1\n",
    "# kmeans_corner = KMeans(n_clusters=2)   # 角落里有飞船和没有飞船\n",
    "# y_pred = kmeans_corner.fit_predict(x_corner)\n",
    "# y_pred  # 0是最右边的角落里，1是不在那个小角落\n",
    "kmeans_l_corner = KMeans(n_clusters=2)   # 角落里有飞船和没有飞船\n",
    "y_pred = kmeans_l_corner.fit_predict(x_l_corner)\n",
    "y_pred  # 0是最右边的角落里，1是不在那个小角落"
   ],
   "metadata": {
    "collapsed": false,
    "pycharm": {
     "name": "#%%\n"
    }
   }
  },
  {
   "cell_type": "code",
   "execution_count": null,
   "outputs": [],
   "source": [
    "import joblib\n",
    "file = r\"D:\\\\Python_Projects\\\\DRL\\\\models\\\\k_means_right\"\n",
    "joblib.dump(kmeans_l_corner,file)"
   ],
   "metadata": {
    "collapsed": false,
    "pycharm": {
     "name": "#%%\n"
    }
   }
  }
 ],
 "metadata": {
  "kernelspec": {
   "display_name": "Python 3",
   "language": "python",
   "name": "python3"
  },
  "language_info": {
   "codemirror_mode": {
    "name": "ipython",
    "version": 2
   },
   "file_extension": ".py",
   "mimetype": "text/x-python",
   "name": "python",
   "nbconvert_exporter": "python",
   "pygments_lexer": "ipython2",
   "version": "2.7.6"
  }
 },
 "nbformat": 4,
 "nbformat_minor": 0
}